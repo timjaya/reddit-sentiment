{
 "cells": [
  {
   "cell_type": "code",
   "execution_count": 1,
   "metadata": {},
   "outputs": [],
   "source": [
    "from google.cloud import bigquery\n",
    "from google.oauth2 import service_account\n",
    "import pandas as pd"
   ]
  },
  {
   "cell_type": "code",
   "execution_count": 2,
   "metadata": {},
   "outputs": [],
   "source": [
    "%load_ext google.cloud.bigquery"
   ]
  },
  {
   "cell_type": "code",
   "execution_count": 3,
   "metadata": {},
   "outputs": [],
   "source": [
    "key_path = \"big-data-analytics-b0511a030e6d.json\"\n",
    "\n",
    "credentials = service_account.Credentials.from_service_account_file(\n",
    "    key_path,\n",
    "    scopes=[\"https://www.googleapis.com/auth/cloud-platform\"],\n",
    ")\n",
    "\n",
    "bqclient = bigquery.Client(\n",
    "    credentials=credentials,\n",
    "    project=credentials.project_id,\n",
    ")"
   ]
  },
  {
   "cell_type": "code",
   "execution_count": 4,
   "metadata": {},
   "outputs": [],
   "source": [
    "company='twitter'"
   ]
  },
  {
   "cell_type": "code",
   "execution_count": 7,
   "metadata": {
    "scrolled": true
   },
   "outputs": [
    {
     "name": "stdout",
     "output_type": "stream",
     "text": [
      "       id                                              title selftext  \\\n",
      "0  b4i80h  Wie kann man die Blockierung auf Twitter aufhe...            \n",
      "1  b4ia9n  SPYING! Facebook Google and Twitter Owned Oper...            \n",
      "2  b256fo  5 Types of Stories Brands &amp; Marketers Shou...            \n",
      "3  azo5wi  Internet Collapses in Venezuela with 80% Offli...            \n",
      "4  azu76s                  TWITTER CLIPS from Islamic Europe            \n",
      "\n",
      "   num_comments  \n",
      "0             0  \n",
      "1             0  \n",
      "2             0  \n",
      "3             0  \n",
      "4             0  \n"
     ]
    }
   ],
   "source": [
    "query_post = (\n",
    "    \"SELECT id, title, selftext, num_comments FROM `fh-bigquery.reddit_posts.2019_03` \"\n",
    "    \"WHERE subreddit='news' AND LOWER(title) LIKE LOWER('%\" + company + \"%')\"\n",
    ")\n",
    "\n",
    "job_post = bqclient.query(\n",
    "    query_post,\n",
    "    location=\"US\",\n",
    ")  # API request - starts the query\n",
    "\n",
    "df_post = (\n",
    "    job_post\n",
    "    .result()\n",
    "    .to_dataframe()\n",
    ")\n",
    "\n",
    "print(df_post.head())"
   ]
  },
  {
   "cell_type": "code",
   "execution_count": 9,
   "metadata": {},
   "outputs": [],
   "source": [
    "comments = []\n",
    "for i in df_post[df_post.num_comments > 0].id:\n",
    "    query_comments = (\n",
    "        \"SELECT body, parent_id, ups, downs, score FROM `fh-bigquery.reddit_comments.2019_03` \"\n",
    "        \"WHERE subreddit='news' AND parent_id LIKE '%\" + i + \"'\"\n",
    "    )\n",
    "\n",
    "    job_comments = bqclient.query(\n",
    "        query_comments,\n",
    "        location=\"US\",\n",
    "    )  # API request - starts the query\n",
    "\n",
    "    df_comments = (\n",
    "        job_comments\n",
    "        .result()\n",
    "        .to_dataframe()\n",
    "    )\n",
    "    \n",
    "    comments.append(df_comments)\n",
    "\n",
    "df_comments = pd.concat(comments, ignore_index=True)"
   ]
  },
  {
   "cell_type": "code",
   "execution_count": 11,
   "metadata": {},
   "outputs": [
    {
     "name": "stdout",
     "output_type": "stream",
     "text": [
      "                                                body  parent_id   ups downs  \\\n",
      "0  [I think we have bigger anti vaxxer idiots to ...  t3_b0klc7  None  None   \n",
      "1  Unsure how an anti-vaxer could possibly assist...  t3_b0klc7  None  None   \n",
      "2  Fuck this article and fuck people who just bli...  t3_b0klc7  None  None   \n",
      "3                          Take away his blue check!  t3_b0klc7  None  None   \n",
      "4    Is twitter going to start blocking pro vaxxers?  t3_b0klc7  None  None   \n",
      "\n",
      "   score  \n",
      "0     10  \n",
      "1      3  \n",
      "2      4  \n",
      "3      1  \n",
      "4      2  \n"
     ]
    }
   ],
   "source": [
    "print(df_comments.head())"
   ]
  },
  {
   "cell_type": "code",
   "execution_count": null,
   "metadata": {},
   "outputs": [],
   "source": []
  }
 ],
 "metadata": {
  "kernelspec": {
   "display_name": "Python 3",
   "language": "python",
   "name": "python3"
  },
  "language_info": {
   "codemirror_mode": {
    "name": "ipython",
    "version": 3
   },
   "file_extension": ".py",
   "mimetype": "text/x-python",
   "name": "python",
   "nbconvert_exporter": "python",
   "pygments_lexer": "ipython3",
   "version": "3.7.4"
  }
 },
 "nbformat": 4,
 "nbformat_minor": 2
}
